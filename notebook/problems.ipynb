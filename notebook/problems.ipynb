{
    "cells": [
        {
            "cell_type": "markdown",
            "id": "ac622319",
            "metadata": {},
            "source": [
                "# Descriptive statistics problems"
            ]
        },
        {
            "cell_type": "markdown",
            "id": "aa8993e4",
            "metadata": {},
            "source": [
                "### Exercise 1"
            ]
        },
        {
            "cell_type": "markdown",
            "id": "5e0ab0d5",
            "metadata": {},
            "source": [
                "We will use Numpy to obtain information to describe statistically.\n",
                "\n",
                "- Generate an array of 100 elements following a normal distribution.\n",
                "- Generate an array of 100 elements following a chi-square distribution with 3 degrees of freedom.\n",
                "- Calculate the main metrics and statistical measures that best describe the two vectors."
            ]
        },
        {
            "cell_type": "code",
            "execution_count": 17,
            "id": "34720ab6",
            "metadata": {},
            "outputs": [
                {
                    "name": "stdout",
                    "output_type": "stream",
                    "text": [
                        "Estas son las principales estadísticas del vector dado:\n",
                        "\n",
                        "Distribución: Normal\n",
                        "Media: -0.22\n",
                        "Mediana: -0.13\n",
                        "Moda: En estas distribuciones no existe la moda. Al ser valores aleatorios, no se van a repetir\n",
                        "Desviación estándar: 1.0\n",
                        "Percentil 25: -0.93\n",
                        "Percentil 75: 0.46\n",
                        "Rango: 5.52\n",
                        "Kurtosis: 0.03\n",
                        "Asimetría: -0.26\n"
                    ]
                },
                {
                    "data": {
                        "image/png": "[encoded data removed]",
                        "text/plain": [
                            "<Figure size 640x480 with 1 Axes>"
                        ]
                    },
                    "metadata": {},
                    "output_type": "display_data"
                },
                {
                    "name": "stdout",
                    "output_type": "stream",
                    "text": [
                        "Estas son las principales estadísticas del vector dado:\n",
                        "\n",
                        "Distribución: Xi cuadrado-3 df\n",
                        "Media: 2.75\n",
                        "Mediana: 2.15\n",
                        "Moda: En estas distribuciones no existe la moda. Al ser valores aleatorios, no se van a repetir\n",
                        "Desviación estándar: 2.5\n",
                        "Percentil 25: 0.91\n",
                        "Percentil 75: 3.77\n",
                        "Rango: 13.84\n",
                        "Kurtosis: 3.97\n",
                        "Asimetría: 1.8\n"
                    ]
                },
                {
                    "data": {
                        "image/png": "[encoded data removed]",
                        "text/plain": [
                            "<Figure size 640x480 with 1 Axes>"
                        ]
                    },
                    "metadata": {},
                    "output_type": "display_data"
                }
            ],
            "source": [
                "import numpy as np\n",
                "import statistics as stats\n",
                "from scipy.stats import skew,kurtosis\n",
                "from matplotlib import pyplot as plt\n",
                "\n",
                "\n",
                "arr_norm=np.random.normal(0,1,100)\n",
                "arr_xi=np.random.chisquare(3,100)\n",
                "\n",
                "\n",
                "#print(len(arr_norm),len(arr_xi))\n",
                "\n",
                "def statistics(distribucion,array):\n",
                "    \n",
                "    print(f\"Estas son las principales estadísticas del vector dado:\\n\")\n",
                "    print(f\"Distribución: \" + distribucion)\n",
                "    print(f\"Media: {round(array.mean(),2)}\")\n",
                "    print(f\"Mediana: {round(np.median(array),2)}\")\n",
                "    print(f\"Moda: En estas distribuciones no existe la moda. Al ser valores aleatorios, no se van a repetir\")\n",
                "    print(f\"Desviación estándar: {round(array.std(),2)}\")\n",
                "    print(f\"Percentil 25: {round(np.percentile(array,25),2)}\")\n",
                "    print(f\"Percentil 75: {round(np.percentile(array,75),2)}\")\n",
                "    print(f\"Rango: {round(np.max(array)-np.min(array),2)}\")\n",
                "    print(f\"Kurtosis: {round(kurtosis(array),2)}\")\n",
                "    print(f\"Asimetría: {round(skew(array),2)}\")\n",
                "    \n",
                "    plt.hist(np.sort(array),10)\n",
                "    plt.title(distribucion)\n",
                "    plt.show()\n",
                "\n",
                "statistics(\"Normal\",arr_norm)\n",
                "statistics(\"Xi cuadrado-3 df\",arr_xi)\n"
            ]
        },
        {
            "cell_type": "markdown",
            "id": "46c70c3d",
            "metadata": {},
            "source": [
                "### Exercise 2\n",
                "\n",
                "Write a Python program to calculate the standard deviation of the following data:\n",
                "\n",
                "```py\n",
                "data = [4, 2, 5, 8, 6]\n",
                "```"
            ]
        },
        {
            "cell_type": "code",
            "execution_count": 24,
            "id": "d590308e",
            "metadata": {},
            "outputs": [
                {
                    "name": "stdout",
                    "output_type": "stream",
                    "text": [
                        "2.0\n",
                        "25\n",
                        "2.0 2.0\n"
                    ]
                }
            ],
            "source": [
                "# de=sq(sum((x-mu)^2)/N)\n",
                "data=[4,2,5,8,6]\n",
                "arr_ex2=np.array(data)\n",
                "\n",
                "\n",
                "#Calculamos con una función\n",
                "\n",
                "def st_dev(array):\n",
                "    \n",
                "    mu=array.mean()\n",
                "    var1=np.zeros(len(array))\n",
                "    for i in range(len(array)):\n",
                "        var1[i]=(array[i]-mu)**2\n",
                "    sumatorio=var1.sum()/len(array)\n",
                "    return(np.sqrt(sumatorio))\n",
                "\n",
                "print(arr_ex2.std(),st_dev(arr_ex2))"
            ]
        }
    ],
    "metadata": {
        "interpreter": {
            "hash": "9248718ffe6ce6938b217e69dbcc175ea21f4c6b28a317e96c05334edae734bb"
        },
        "kernelspec": {
            "display_name": "Python 3.9.12 ('ML-BOOTCAMP')",
            "language": "python",
            "name": "python3"
        },
        "language_info": {
            "codemirror_mode": {
                "name": "ipython",
                "version": 3
            },
            "file_extension": ".py",
            "mimetype": "text/x-python",
            "name": "python",
            "nbconvert_exporter": "python",
            "pygments_lexer": "ipython3",
            "version": "3.11.4"
        }
    },
    "nbformat": 4,
    "nbformat_minor": 5
}
